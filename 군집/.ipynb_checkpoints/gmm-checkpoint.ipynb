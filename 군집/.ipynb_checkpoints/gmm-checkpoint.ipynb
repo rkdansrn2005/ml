{
 "cells": [
  {
   "cell_type": "code",
   "execution_count": 2,
   "metadata": {},
   "outputs": [],
   "source": [
    "from sklearn.datasets import load_iris\n",
    "from sklearn.cluster import KMeans\n",
    "\n",
    "import matplotlib.pyplot as plt\n",
    "import numpy as np\n",
    "import pandas as pd\n",
    "%matplotlib inline\n",
    "\n",
    "iris = load_iris()\n",
    "feature_names = ['sepal_length','sepal_width','petal_length','petal_width']\n",
    "\n",
    "# 보다 편리한 데이타 Handling을 위해 DataFrame으로 변환\n",
    "irisDF = pd.DataFrame(data=iris.data, columns=feature_names)\n",
    "irisDF['target'] = iris.target"
   ]
  },
  {
   "cell_type": "code",
   "execution_count": 6,
   "metadata": {},
   "outputs": [
    {
     "name": "stdout",
     "output_type": "stream",
     "text": [
      "target  gmm_c\n",
      "0       0        50\n",
      "1       1        45\n",
      "        2         5\n",
      "2       2        50\n",
      "Name: gmm_c, dtype: int64\n"
     ]
    }
   ],
   "source": [
    "from sklearn.mixture import GaussianMixture\n",
    "gmm = GaussianMixture(n_components=3,random_state=0).fit(iris.data)\n",
    "gmm_cluster_label =gmm.predict(iris.data)\n",
    "\n",
    "irisDF['gmm_c']= gmm_cluster_label\n",
    "iris_result = irisDF.groupby(['target'])['gmm_c'].value_counts()\n",
    "print(iris_result)"
   ]
  },
  {
   "cell_type": "code",
   "execution_count": 7,
   "metadata": {},
   "outputs": [
    {
     "data": {
      "text/plain": [
       "array(['setosa', 'versicolor', 'virginica'], dtype='<U10')"
      ]
     },
     "execution_count": 7,
     "metadata": {},
     "output_type": "execute_result"
    }
   ],
   "source": [
    "iris.target_names"
   ]
  },
  {
   "cell_type": "code",
   "execution_count": 9,
   "metadata": {},
   "outputs": [
    {
     "name": "stdout",
     "output_type": "stream",
     "text": [
      "target  km_c\n",
      "0       1       50\n",
      "1       2       48\n",
      "        0        2\n",
      "2       0       36\n",
      "        2       14\n",
      "Name: km_c, dtype: int64\n"
     ]
    }
   ],
   "source": [
    "km= KMeans(n_clusters=3,init='k-means++',max_iter=300,random_state=0).fit(iris.data)\n",
    "km_pred = km.predict(iris.data)\n",
    "irisDF['km_c']= km_pred\n",
    "iris_re = irisDF.groupby(['target'])['km_c'].value_counts()\n",
    "print(iris_re)"
   ]
  },
  {
   "cell_type": "code",
   "execution_count": 17,
   "metadata": {},
   "outputs": [],
   "source": [
    "def visualize_c_p(cluster,df,label,iscenter=True):\n",
    "    if iscenter:\n",
    "        centers=cluster.cluster_centers_\n",
    "    \n",
    "    u_label = np.unique(df[label].values)\n",
    "    marker=['o','s','^','x','*']\n",
    "    isNoise=False\n",
    "    for la in u_label:\n",
    "        la_cl = df[df[label]==la]\n",
    "        # dbscan을 표시하기 위한 것 \n",
    "        if label==-1:\n",
    "            cluster_legend ='Noise'\n",
    "            isNoise=True\n",
    "        else:\n",
    "            cluster_legend = 'Cluster'+str(la)\n",
    "        \n",
    "        plt.scatter(x=la_cl['ftr1'],y=la_cl['ftr2'],s=70, edgecolor='k'\n",
    "                   ,marker=marker[la],label=cluster_legend)\n",
    "        \n",
    "        if iscenter:\n",
    "            cen_ =centers[la]\n",
    "            plt.scatter(x=cen_[0],y=cen_[1],s=200,color='white',alpha=0.9,\n",
    "                       edgecolor='k',marker=marker[label])\n",
    "            plt.scatter(x=cen_[0],y=cen_[1],s=70,color='k',marker='$d%$'% la)\n",
    "        \n",
    "        if isNoise:\n",
    "            legend_loc='upper center'\n",
    "        else:\n",
    "            legend_loc='upper center'\n",
    "    "
   ]
  },
  {
   "cell_type": "code",
   "execution_count": 18,
   "metadata": {},
   "outputs": [
    {
     "data": {
      "image/png": "[encoded data removed]",
      "text/plain": [
       "<Figure size 432x288 with 1 Axes>"
      ]
     },
     "metadata": {
      "needs_background": "light"
     },
     "output_type": "display_data"
    }
   ],
   "source": [
    "from sklearn.datasets import make_blobs\n",
    "\n",
    "X, y = make_blobs(n_samples=300, n_features=2, centers=3, cluster_std=0.5, random_state=0)\n",
    "\n",
    "# 길게 늘어난 타원형의 데이터 셋을 생성하기 위해 변환함. \n",
    "transformation = [[0.60834549, -0.63667341], [-0.40887718, 0.85253229]]\n",
    "X_aniso = np.dot(X, transformation)\n",
    "clusterDF = pd.DataFrame(data=X_aniso, columns=['ftr1', 'ftr2'])\n",
    "clusterDF['target'] = y\n",
    "visualize_c_p(None, clusterDF, 'target', iscenter=False)"
   ]
  },
  {
   "cell_type": "code",
   "execution_count": null,
   "metadata": {},
   "outputs": [],
   "source": []
  },
  {
   "cell_type": "code",
   "execution_count": null,
   "metadata": {},
   "outputs": [],
   "source": []
  },
  {
   "cell_type": "code",
   "execution_count": null,
   "metadata": {},
   "outputs": [],
   "source": []
  },
  {
   "cell_type": "code",
   "execution_count": null,
   "metadata": {},
   "outputs": [],
   "source": []
  },
  {
   "cell_type": "code",
   "execution_count": null,
   "metadata": {},
   "outputs": [],
   "source": []
  },
  {
   "cell_type": "code",
   "execution_count": null,
   "metadata": {},
   "outputs": [],
   "source": []
  },
  {
   "cell_type": "code",
   "execution_count": null,
   "metadata": {},
   "outputs": [],
   "source": []
  }
 ],
 "metadata": {
  "kernelspec": {
   "display_name": "Python 3",
   "language": "python",
   "name": "python3"
  },
  "language_info": {
   "codemirror_mode": {
    "name": "ipython",
    "version": 3
   },
   "file_extension": ".py",
   "mimetype": "text/x-python",
   "name": "python",
   "nbconvert_exporter": "python",
   "pygments_lexer": "ipython3",
   "version": "3.7.7"
  }
 },
 "nbformat": 4,
 "nbformat_minor": 4
}
